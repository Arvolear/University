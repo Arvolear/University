{
 "cells": [
  {
   "cell_type": "markdown",
   "metadata": {},
   "source": [
    "## DSL Job3"
   ]
  },
  {
   "cell_type": "markdown",
   "metadata": {},
   "source": [
    "Grammar structure:"
   ]
  },
  {
   "cell_type": "markdown",
   "metadata": {},
   "source": [
    "```\n",
    "{'toks': set(token), 'vars': dict(var: definition), 'hvar': var}\n",
    "token : (class, value)\n",
    "class : int\n",
    "value : str\n",
    "var : str                 # non-terminal name\n",
    "definition : list(rule)\n",
    "rule : list(var | token)  # right side of the rule\n",
    "```"
   ]
  },
  {
   "cell_type": "markdown",
   "metadata": {},
   "source": [
    "**1. FIRST()**"
   ]
  },
  {
   "cell_type": "markdown",
   "metadata": {},
   "source": [
    "`FIRST(X)` is a function that returns a set of terminal symbols that the strings derived from `X` begin with. We will implement this function in the following way: if the first symbol of the rule is a nonterminal, add it to the result set, else call the function recursively on the observed symbol."
   ]
  },
  {
   "cell_type": "code",
   "execution_count": 1,
   "metadata": {},
   "outputs": [],
   "source": [
    "def first(tokens, rules, symbol):\n",
    "  result = set()\n",
    "\n",
    "  for rule in rules[symbol]:\n",
    "    if rule[0] in tokens:\n",
    "      result.add(rule[0])\n",
    "    else:\n",
    "      result = result.union(first(tokens, rules, rule[0]))\n",
    "\n",
    "  return result"
   ]
  },
  {
   "cell_type": "markdown",
   "metadata": {},
   "source": [
    "**2. FOLLOW()**"
   ]
  },
  {
   "cell_type": "markdown",
   "metadata": {},
   "source": [
    "`FOLLOW(X)` is a function that returns a set of terminal symbols that may appear sequentially after `X`. We will find all productions that contain `X` in them and take the symbol that follows `X`, lets call it `Y`. If the `X` is not the last symbol, we will find all first symbols of the strings derived from `Y` using the `FIRST(Y)` function. Else we will call the `FOLLOW()` function recursively on the symbol that string with `X` is derived from."
   ]
  },
  {
   "cell_type": "code",
   "execution_count": 12,
   "metadata": {},
   "outputs": [],
   "source": [
    "def follow(tokens, vars, symbol):\n",
    "  result = set()\n",
    "  \n",
    "  for var, rules in vars.items():\n",
    "    for rule in rules:\n",
    "      indexes = [i for i, s in enumerate(rule) if s == symbol]\n",
    "      \n",
    "      for i in indexes:\n",
    "        j = i + 1\n",
    "        if j < len(rule):\n",
    "          if rule[j] in tokens:\n",
    "            result.add(rule[j])\n",
    "          else:\n",
    "            result = result.union(first(tokens, vars, rule[j]))\n",
    "        elif var != symbol:\n",
    "            result = result.union(follow(tokens, vars, var))\n",
    "\n",
    "  return result"
   ]
  },
  {
   "cell_type": "code",
   "execution_count": 22,
   "metadata": {},
   "outputs": [
    {
     "name": "stdout",
     "output_type": "stream",
     "text": [
      "{('type2', 'b1'), ('type', 'a1')}\n",
      "set()\n",
      "{('type2', 'b1')}\n",
      "{('type3', 'c1'), ('type2', 'b1')}\n",
      "set()\n"
     ]
    }
   ],
   "source": [
    "GRAMMAR = {\n",
    "  'toks': set([\n",
    "      ('type', 'a1'),\n",
    "      ('type', 'a2'),\n",
    "      ('type2', 'b1'),\n",
    "      ('type3', 'c1'),\n",
    "  ]),\n",
    "  'vars': {\n",
    "      'S': [\n",
    "        ['A', ('type2', 'b1')],\n",
    "        ['B', ('type3', 'c1')],\n",
    "        [('type', 'a1'), ('type', 'a2')],\n",
    "      ],\n",
    "      'A': [\n",
    "        ['B']\n",
    "      ],\n",
    "      'B': [\n",
    "        [('type2', 'b1')]\n",
    "      ],\n",
    "      'E': [[]],\n",
    "      'K': [['E']]\n",
    "  },\n",
    "  'hvar': 'S'\n",
    "}\n",
    "\n",
    "print(first(GRAMMAR['toks'], GRAMMAR['vars'], GRAMMAR['hvar']))\n",
    "\n",
    "print(follow(GRAMMAR['toks'], GRAMMAR['vars'], 'S'))\n",
    "print(follow(GRAMMAR['toks'], GRAMMAR['vars'], 'A'))\n",
    "print(follow(GRAMMAR['toks'], GRAMMAR['vars'], 'B'))\n",
    "print(follow(GRAMMAR['toks'], GRAMMAR['vars'], 'K'))"
   ]
  }
 ],
 "metadata": {
  "interpreter": {
   "hash": "31f2aee4e71d21fbe5cf8b01ff0e069b9275f58929596ceb00d14d90e3e16cd6"
  },
  "kernelspec": {
   "display_name": "Python 3.8.9 64-bit",
   "language": "python",
   "name": "python3"
  },
  "language_info": {
   "codemirror_mode": {
    "name": "ipython",
    "version": 3
   },
   "file_extension": ".py",
   "mimetype": "text/x-python",
   "name": "python",
   "nbconvert_exporter": "python",
   "pygments_lexer": "ipython3",
   "version": "3.8.9"
  },
  "orig_nbformat": 4
 },
 "nbformat": 4,
 "nbformat_minor": 2
}
