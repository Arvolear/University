{
 "cells": [
  {
   "cell_type": "markdown",
   "metadata": {},
   "source": [
    "## DSL Job2"
   ]
  },
  {
   "cell_type": "markdown",
   "metadata": {},
   "source": [
    "Grammar structure:"
   ]
  },
  {
   "cell_type": "markdown",
   "metadata": {},
   "source": [
    "```\n",
    "{'toks': set(token), 'vars': dict(var: definition), 'hvar': var}\n",
    "token : (class, value)\n",
    "class : int\n",
    "value : str\n",
    "var : str                 # non-terminal name\n",
    "definition : list(rule)\n",
    "rule : list(var | token)  # right side of the rule\n",
    "```"
   ]
  },
  {
   "cell_type": "markdown",
   "metadata": {},
   "source": [
    "**1. Getting rid of useless nonterminals**"
   ]
  },
  {
   "cell_type": "markdown",
   "metadata": {},
   "source": [
    "To get rid of useless nonterminals, we just have to leave all useful nonterminals in our grammar. To check whether the nonterminal is useful, its production has to consist only of terminals and other useful nonterminals."
   ]
  },
  {
   "cell_type": "code",
   "execution_count": 1,
   "metadata": {},
   "outputs": [],
   "source": [
    "def getUseful(grammar):\n",
    "  tokens = grammar['toks']\n",
    "  vars = grammar['vars']\n",
    "  useful = set()\n",
    "\n",
    "  while True:\n",
    "    added = False\n",
    "\n",
    "    for var, rules in vars.items():\n",
    "      if var not in useful:\n",
    "        for rule in rules:\n",
    "          if all(map(lambda s: s in tokens or s in useful, rule)):\n",
    "            useful.add(var)\n",
    "            added = True\n",
    "            break\n",
    "\n",
    "    if not added:\n",
    "      return useful"
   ]
  },
  {
   "cell_type": "markdown",
   "metadata": {},
   "source": [
    "Then to remove all the rules with useless nonterminals we have to keep the ones that consist only of terminal and useful nonterminal symbols."
   ]
  },
  {
   "cell_type": "code",
   "execution_count": 2,
   "metadata": {},
   "outputs": [],
   "source": [
    "def removeUseless(grammar):\n",
    "  tokens = grammar['toks']\n",
    "  vars = grammar['vars']\n",
    "  useful = getUseful(grammar)\n",
    "\n",
    "  fixedVars = {}\n",
    "  \n",
    "  for var, rules in vars.items():\n",
    "    if var in useful:\n",
    "      fixedVars[var] = []\n",
    "\n",
    "      for rule in rules:\n",
    "        if all(map(lambda s: s in tokens or s in useful, rule)):\n",
    "          fixedVars[var].append(rule)\n",
    "\n",
    "  return {'toks': tokens, 'vars': fixedVars, 'hvar': grammar['hvar']}"
   ]
  },
  {
   "cell_type": "markdown",
   "metadata": {},
   "source": [
    "**2. Identifying disappearing nonterminals**"
   ]
  },
  {
   "cell_type": "markdown",
   "metadata": {},
   "source": [
    "In order to identify the disappearing nonterminals, their production has to consist of other disappearing nonterminals or be empty."
   ]
  },
  {
   "cell_type": "code",
   "execution_count": 7,
   "metadata": {},
   "outputs": [],
   "source": [
    "def getDisappearing(grammar):\n",
    "  vars = grammar['vars']\n",
    "  disappearing = set()\n",
    "\n",
    "  while True:\n",
    "    added = False\n",
    "\n",
    "    for var, rules in vars.items():\n",
    "      if var not in disappearing:\n",
    "        for rule in rules:\n",
    "          if all(map(lambda s: s in disappearing, rule)):\n",
    "            disappearing.add(var)\n",
    "            added = True\n",
    "            break\n",
    "\n",
    "    if not added:\n",
    "      return disappearing"
   ]
  },
  {
   "cell_type": "markdown",
   "metadata": {},
   "source": [
    "Test:"
   ]
  },
  {
   "cell_type": "code",
   "execution_count": 9,
   "metadata": {},
   "outputs": [
    {
     "name": "stdout",
     "output_type": "stream",
     "text": [
      "{'toks': {('type', 'a1'), ('type', 'a2'), ('type3', 'c1'), ('type2', 'b1')}, 'vars': {'S': [['A', ('type2', 'b1')], ['B', ('type3', 'c1')], [('type', 'a1'), ('type', 'a2')]], 'A': [['B']], 'B': [[('type2', 'b1')]], 'E': [[]], 'K': [['E']]}, 'hvar': 'S'}\n",
      "{'K', 'E'}\n"
     ]
    }
   ],
   "source": [
    "GRAMMAR = {\n",
    "  'toks': set([\n",
    "      ('type', 'a1'),\n",
    "      ('type', 'a2'),\n",
    "      ('type2', 'b1'),\n",
    "      ('type3', 'c1'),\n",
    "  ]),\n",
    "  'vars': {\n",
    "      'S': [\n",
    "        ['A', ('type2', 'b1')],\n",
    "        ['B', ('type3', 'c1')],\n",
    "        [('type', 'a1'), ('type', 'a2')],\n",
    "      ],\n",
    "      'A': [\n",
    "        ['B']\n",
    "      ],\n",
    "      'B': [\n",
    "        [('type2', 'b1')]\n",
    "      ],\n",
    "      'E': [[]],\n",
    "      'K': [['E']]\n",
    "  },\n",
    "  'hvar': 'S'\n",
    "}\n",
    "\n",
    "print(removeUseless(GRAMMAR))\n",
    "print(getDisappearing(GRAMMAR))"
   ]
  }
 ],
 "metadata": {
  "interpreter": {
   "hash": "31f2aee4e71d21fbe5cf8b01ff0e069b9275f58929596ceb00d14d90e3e16cd6"
  },
  "kernelspec": {
   "display_name": "Python 3.8.9 64-bit",
   "language": "python",
   "name": "python3"
  },
  "language_info": {
   "codemirror_mode": {
    "name": "ipython",
    "version": 3
   },
   "file_extension": ".py",
   "mimetype": "text/x-python",
   "name": "python",
   "nbconvert_exporter": "python",
   "pygments_lexer": "ipython3",
   "version": "3.8.9"
  },
  "orig_nbformat": 4
 },
 "nbformat": 4,
 "nbformat_minor": 2
}
